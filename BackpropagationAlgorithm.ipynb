{
  "nbformat": 4,
  "nbformat_minor": 0,
  "metadata": {
    "kernelspec": {
      "display_name": "Python 3",
      "language": "python",
      "name": "python3"
    },
    "language_info": {
      "codemirror_mode": {
        "name": "ipython",
        "version": 3
      },
      "file_extension": ".py",
      "mimetype": "text/x-python",
      "name": "python",
      "nbconvert_exporter": "python",
      "pygments_lexer": "ipython3",
      "version": "3.8.7"
    },
    "colab": {
      "name": "DuongTruongGiang_51800973.ipynb",
      "provenance": []
    }
  },
  "cells": [
    {
      "cell_type": "code",
      "metadata": {
        "id": "00wavXH9QeoZ",
        "outputId": "6c798338-66fa-41cc-b1ec-3ed8f049ac79"
      },
      "source": [
        "import random as rad\n",
        "#Khởi tạo mạng neuron\n",
        "def init_network(n_input, n_hidden, n_output):\n",
        "    network = list()\n",
        "    #Trọng số của mỗi đầu vào n_input và bias đến lớp hidden\n",
        "    hidden_layer = [{'weights':[rad.random() for i in range(n_input + 1)]} for i in range(n_hidden)]\n",
        "    network.append(hidden_layer)\n",
        "    #Trọng số của mỗi đầu vào n_hidden và bias đến lớp output\n",
        "    output_layer = [{'weights':[rad.random() for j in range(n_hidden + 1)]} for j in range(n_output)]\n",
        "    network.append(output_layer)\n",
        "    return network\n",
        "network = init_network(2,1,2)\n",
        "print(network)"
      ],
      "execution_count": null,
      "outputs": [
        {
          "output_type": "stream",
          "text": [
            "[[{'weights': [0.5852340056164083, 0.8484387075765376, 0.695023928397149]}], [{'weights': [0.8301924754376361, 0.1684450754870217]}, {'weights': [0.3850409681449646, 0.5987346759207254]}]]\n"
          ],
          "name": "stdout"
        }
      ]
    },
    {
      "cell_type": "code",
      "metadata": {
        "id": "f5crxr-jQeof"
      },
      "source": [
        "#Tính hàm kích hoạt cho mỗi đầu vào\n",
        "def activation_input(weights, inputs):\n",
        "    bias = weights[-1]\n",
        "    activation = bias\n",
        "    for i in range(len(weights)-1):\n",
        "        activation += weights[i]*inputs[i]\n",
        "    return activation"
      ],
      "execution_count": null,
      "outputs": []
    },
    {
      "cell_type": "code",
      "metadata": {
        "id": "Fe8JxCYDQeog"
      },
      "source": [
        "#Tính hàm sigmoid\n",
        "import math as mat\n",
        "def sigmoid(activation):\n",
        "    return 1.0/(1.0 + mat.exp(-activation))"
      ],
      "execution_count": null,
      "outputs": []
    },
    {
      "cell_type": "code",
      "metadata": {
        "id": "dVBnjBg6Qeog",
        "outputId": "4aaced55-e2f3-4479-a16f-756ee7efe65d"
      },
      "source": [
        "#Tính lan truyền thẳng từ input đến output\n",
        "#Forward Propagation\n",
        "def forward_pro(network, data_row):\n",
        "    inp = data_row\n",
        "    for layer in network:\n",
        "        temp = []\n",
        "        for neuron in layer:\n",
        "            activation = activation_input(neuron['weights'], inp)\n",
        "            output_layer = sigmoid(activation)\n",
        "            temp.append(output_layer)\n",
        "            print(neuron)\n",
        "        inp = temp\n",
        "    return inp\n",
        "print(forward_pro(network, [1,0]))"
      ],
      "execution_count": null,
      "outputs": [
        {
          "output_type": "stream",
          "text": [
            "{'weights': [0.5852340056164083, 0.8484387075765376, 0.695023928397149]}\n",
            "{'weights': [0.8301924754376361, 0.1684450754870217]}\n",
            "{'weights': [0.3850409681449646, 0.5987346759207254]}\n",
            "[0.6938255325029711, 0.7109550099539578]\n"
          ],
          "name": "stdout"
        }
      ]
    },
    {
      "cell_type": "code",
      "metadata": {
        "id": "nYgKMGwAQeog"
      },
      "source": [
        "#Tính đạo hàm của hàm sigmoid ở đầu ra \n",
        "def sigmoid_derivative(output):\n",
        "    return output*(1.0-output)"
      ],
      "execution_count": null,
      "outputs": []
    },
    {
      "cell_type": "code",
      "metadata": {
        "id": "ZkRnI2XwQeoh",
        "outputId": "90237e8e-b016-413d-fac1-fd54c6de13a5"
      },
      "source": [
        "#Tính hàm lỗi của backpropagation và lưu trong network\n",
        "def backpropagation_error(network, expection):\n",
        "    for j in reversed(range(len(network))):\n",
        "        layer = network[j]\n",
        "        errs = list()\n",
        "        if j != len(network) - 1:\n",
        "            for k in range(len(layer)):\n",
        "                err = 0.0\n",
        "                for neuron in network[j+1]:\n",
        "                    err += (neuron['weights'][j]*neuron['error'])\n",
        "                errs.append(err)\n",
        "        else:\n",
        "            for k in range(len(layer)):\n",
        "                neuron = layer[k]\n",
        "                errs.append(expection[k] - neuron['output'])\n",
        "        for k in range(len(layer)):\n",
        "            neuron = layer[k]\n",
        "            neuron['error'] = errs[j] * sigmoid_derivative(neuron['output'])\n",
        "network = [[{'output': 0.7105668883115941, 'weights': [0.9463936036227082, 0.6431101871813475, 0.4264771599829553]}],[{'output': 0.6213859615555266, 'weights': [0.9276732185160963, 0.6167567609526338]}, {'output': 0.6573693455986976, 'weights': [0.6731316543638922, 0.6552006657715309]}]]    \n",
        "expection = [0, 1]\n",
        "backpropagation_error(network,expection)\n",
        "for layer in network:\n",
        "    print(layer)"
      ],
      "execution_count": null,
      "outputs": [
        {
          "output_type": "stream",
          "text": [
            "[{'output': 0.7105668883115941, 'weights': [0.9463936036227082, 0.6431101871813475, 0.4264771599829553], 'error': 0.02606269557370685}]\n",
            "[{'output': 0.6213859615555266, 'weights': [0.9276732185160963, 0.6167567609526338], 'error': 0.08060915452180441}, {'output': 0.6573693455986976, 'weights': [0.6731316543638922, 0.6552006657715309], 'error': 0.0771723774346327}]\n"
          ],
          "name": "stdout"
        }
      ]
    },
    {
      "cell_type": "code",
      "metadata": {
        "id": "YCyVsgkHQeoh"
      },
      "source": [
        ""
      ],
      "execution_count": null,
      "outputs": []
    }
  ]
}